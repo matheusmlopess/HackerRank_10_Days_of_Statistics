{
 "cells": [
  {
   "cell_type": "code",
   "execution_count": null,
   "metadata": {},
   "outputs": [],
   "source": [
    "from "
   ]
  },
  {
   "cell_type": "code",
   "execution_count": 119,
   "metadata": {},
   "outputs": [],
   "source": [
    "X = 10\r\n",
    "#N = '64630 11735 14216 99233 14470 4978 73429 38120 51135 67060'\r\n",
    "N = '64630 11735 14216 99233 14470 4978 73429 38120 51135 67060 38120 51135 67060'\r\n",
    "Ns = map( int , N.split())\r\n",
    "global Nsortd \r\n",
    "global dic\r\n",
    "\r\n",
    "\r\n",
    "# Treating values\r\n",
    "Nsortd = sorted(Ns)\r\n",
    "rem_duplicates = sorted(list(set(Nsortd)))\r\n",
    "mid = X//2 \r\n",
    "dic = { rem_duplicates[idx] : 0 for idx in range(len(rem_duplicates))}"
   ]
  },
  {
   "cell_type": "code",
   "execution_count": 120,
   "metadata": {},
   "outputs": [
    {
     "name": "stdout",
     "output_type": "stream",
     "text": [
      "[4978, 11735, 14216, 14470, 38120, 51135, 64630, 67060, 73429, 99233]\n",
      "[4978, 11735, 14216, 14470, 38120, 38120, 51135, 51135, 64630, 67060, 67060, 73429, 99233]\n",
      "{4978: 0, 11735: 0, 14216: 0, 14470: 0, 38120: 0, 51135: 0, 64630: 0, 67060: 0, 73429: 0, 99233: 0}\n"
     ]
    }
   ],
   "source": [
    "print(rem_duplicates)\r\n",
    "print(Nsortd)\r\n",
    "print(dic)"
   ]
  },
  {
   "cell_type": "code",
   "execution_count": 115,
   "metadata": {},
   "outputs": [
    {
     "name": "stdout",
     "output_type": "stream",
     "text": [
      "59532.1\n",
      "38120.0\n"
     ]
    }
   ],
   "source": [
    "avg = sum(Nsortd)/X\n",
    "print(avg)\n",
    "\n",
    "if X % 2 > 0:\n",
    "    mean = Nsortd[ mid ]\n",
    "    print(mean) \n",
    "\n",
    "asa\n",
    "else:\n",
    "    mean = (Nsortd[mid]+Nsortd[mid -1])/2\n",
    "    print(mean) "
   ]
  },
  {
   "cell_type": "code",
   "execution_count": 122,
   "metadata": {},
   "outputs": [
    {
     "data": {
      "text/plain": "{4978: 1,\n 11735: 1,\n 14216: 1,\n 14470: 1,\n 38120: 2,\n 51135: 2,\n 64630: 1,\n 67060: 2,\n 73429: 1,\n 99233: 1}"
     },
     "execution_count": 122,
     "metadata": {},
     "output_type": "execute_result"
    }
   ],
   "source": [
    "def cOut(x):\r\n",
    "    if x in dic:\r\n",
    "        dic[x] = dic[x] + 1\r\n",
    "\r\n",
    "x2 = map(cOut,Nsortd)\r\n",
    "\r\n",
    "dic"
   ]
  },
  {
   "cell_type": "code",
   "execution_count": 74,
   "metadata": {},
   "outputs": [],
   "source": [
    "dic = { Nsortd[idx] : 1 for idx in range(len(Nsortd))}"
   ]
  },
  {
   "cell_type": "code",
   "execution_count": 85,
   "metadata": {},
   "outputs": [],
   "source": [
    "dic[11735] = dic[11735] + 1"
   ]
  },
  {
   "cell_type": "code",
   "execution_count": 89,
   "metadata": {},
   "outputs": [],
   "source": [
    "new_menu = ['1', '1', '2', '3', '4', '4', '6', '6', '7', '9']\r\n",
    "\r\n",
    "final_new_menu = list(set(new_menu))"
   ]
  },
  {
   "cell_type": "code",
   "execution_count": 90,
   "metadata": {},
   "outputs": [
    {
     "data": {
      "text/plain": "['3', '4', '9', '6', '2', '1', '7']"
     },
     "execution_count": 90,
     "metadata": {},
     "output_type": "execute_result"
    }
   ],
   "source": [
    "final_new_menu\r\n"
   ]
  },
  {
   "cell_type": "code",
   "execution_count": null,
   "metadata": {},
   "outputs": [],
   "source": []
  }
 ],
 "metadata": {
  "kernelspec": {
   "display_name": "Python 3.9.2 64-bit",
   "name": "python392jvsc74a57bd051d70491035ef72f3aa3d622ddf62d8f0c46c2c78ea9fbe6598db21138f97f5c"
  },
  "language_info": {
   "codemirror_mode": {
    "name": "ipython",
    "version": 3
   },
   "file_extension": ".py",
   "mimetype": "text/x-python",
   "name": "python",
   "nbconvert_exporter": "python",
   "pygments_lexer": "ipython3",
   "version": "3.9.2"
  },
  "metadata": {
   "interpreter": {
    "hash": "51d70491035ef72f3aa3d622ddf62d8f0c46c2c78ea9fbe6598db21138f97f5c"
   }
  },
  "orig_nbformat": 2
 },
 "nbformat": 4,
 "nbformat_minor": 2
}