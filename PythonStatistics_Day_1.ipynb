{
 "cells": [
  {
   "cell_type": "code",
   "execution_count": 2,
   "metadata": {},
   "outputs": [],
   "source": [
    "X = 10\n",
    "#N = '64630 11735 14216 99233 14470 4978 73429 38120 51135 67060'\n",
    "N = '64630 11735 14216 99233 14470 4978 73429 38120 51135 67060 38120 51135 67060'\n",
    "Ns = map( int , N.split())\n",
    "global Nsortd \n",
    "global dic\n",
    "\n",
    "\n",
    "# Treating values\n",
    "Nsortd = sorted(Ns)\n",
    "rem_duplicates = sorted(list(set(Nsortd)))\n",
    "mid = X//2 \n",
    "dic = { rem_duplicates[idx] : 0 for idx in range(len(rem_duplicates))}"
   ]
  },
  {
   "cell_type": "code",
   "execution_count": 3,
   "metadata": {},
   "outputs": [
    {
     "output_type": "stream",
     "name": "stdout",
     "text": [
      "[4978, 11735, 14216, 14470, 38120, 51135, 64630, 67060, 73429, 99233]\n[4978, 11735, 14216, 14470, 38120, 38120, 51135, 51135, 64630, 67060, 67060, 73429, 99233]\n{4978: 0, 11735: 0, 14216: 0, 14470: 0, 38120: 0, 51135: 0, 64630: 0, 67060: 0, 73429: 0, 99233: 0}\n"
     ]
    }
   ],
   "source": [
    "print(rem_duplicates)\n",
    "print(Nsortd)\n",
    "print(dic)"
   ]
  },
  {
   "cell_type": "code",
   "execution_count": 4,
   "metadata": {},
   "outputs": [
    {
     "output_type": "stream",
     "name": "stdout",
     "text": [
      "59532.1\n38120.0\n"
     ]
    }
   ],
   "source": [
    "avg = sum(Nsortd)/X\n",
    "print(avg)\n",
    "\n",
    "if X % 2 > 0:\n",
    "    mean = Nsortd[ mid ]\n",
    "    print(mean) \n",
    "\n",
    "else:\n",
    "    mean = (Nsortd[mid]+Nsortd[mid -1])/2\n",
    "    print(mean) "
   ]
  },
  {
   "cell_type": "code",
   "execution_count": 5,
   "metadata": {},
   "outputs": [
    {
     "output_type": "execute_result",
     "data": {
      "text/plain": [
       "{4978: 0,\n",
       " 11735: 0,\n",
       " 14216: 0,\n",
       " 14470: 0,\n",
       " 38120: 0,\n",
       " 51135: 0,\n",
       " 64630: 0,\n",
       " 67060: 0,\n",
       " 73429: 0,\n",
       " 99233: 0}"
      ]
     },
     "metadata": {},
     "execution_count": 5
    }
   ],
   "source": [
    "def cOut(x):\n",
    "    if x in dic:\n",
    "        dic[x] = dic[x] + 1\n",
    "\n",
    "x2 = map(cOut,Nsortd)\n",
    "\n",
    "dic"
   ]
  },
  {
   "cell_type": "code",
   "execution_count": 74,
   "metadata": {},
   "outputs": [],
   "source": [
    "dic = { Nsortd[idx] : 1 for idx in range(len(Nsortd))}"
   ]
  },
  {
   "cell_type": "code",
   "execution_count": 85,
   "metadata": {},
   "outputs": [],
   "source": [
    "dic[11735] = dic[11735] + 1"
   ]
  },
  {
   "cell_type": "code",
   "execution_count": null,
   "metadata": {},
   "outputs": [],
   "source": []
  }
 ],
 "metadata": {
  "kernelspec": {
   "name": "python3",
   "display_name": "Python 3.8.3 64-bit ('base': conda)"
  },
  "language_info": {
   "codemirror_mode": {
    "name": "ipython",
    "version": 3
   },
   "file_extension": ".py",
   "mimetype": "text/x-python",
   "name": "python",
   "nbconvert_exporter": "python",
   "pygments_lexer": "ipython3",
   "version": "3.8.3"
  },
  "metadata": {
   "interpreter": {
    "hash": "51d70491035ef72f3aa3d622ddf62d8f0c46c2c78ea9fbe6598db21138f97f5c"
   }
  },
  "orig_nbformat": 2,
  "interpreter": {
   "hash": "d305bffd9d3fd2239913748dcf493bfc15195005772fd77ecd3617184515f967"
  }
 },
 "nbformat": 4,
 "nbformat_minor": 2
}