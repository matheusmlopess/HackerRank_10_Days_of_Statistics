{
 "metadata": {
  "language_info": {
   "codemirror_mode": {
    "name": "ipython",
    "version": 3
   },
   "file_extension": ".py",
   "mimetype": "text/x-python",
   "name": "python",
   "nbconvert_exporter": "python",
   "pygments_lexer": "ipython3",
   "version": "3.8.3"
  },
  "orig_nbformat": 4,
  "kernelspec": {
   "name": "python3",
   "display_name": "Python 3.8.3 64-bit ('base': conda)"
  },
  "interpreter": {
   "hash": "d305bffd9d3fd2239913748dcf493bfc15195005772fd77ecd3617184515f967"
  }
 },
 "nbformat": 4,
 "nbformat_minor": 2,
 "cells": [
  {
   "source": [
    "Day 2: Basic Probability"
   ],
   "cell_type": "markdown",
   "metadata": {}
  },
  {
   "source": [
    "I. Event, Sample Space, and Probability\n",
    "\n",
    "Here are the first two fundamental rules of probability:\n",
    "\n",
    "1. Any probability, P(A) , is a number between 0 and 1 (i.e., 0<= P(a) <= 1 ).\n",
    "2. The probability of the sample space, S , is  (i.e.,P(s) = 1 ).\n",
    "\n",
    "when comes to occurrence and non-occurrence, we can then say P(A) + P(A') = 1 , or the sum of all possible outcomes of (A) in the sample space is equal to 1 . This is the third fundamental rule of probability: \n",
    "\n",
    "3. P(A') = 1 - P(A)\n",
    "\n",
    "II. Compound Events, Mutually Exclusive Events, and Collectively Exhaustive Events\n",
    "\n",
    " - A compound event is a combination of 2 or more simple events. If A and B are simple events, then A U B denotes the occurrence of either A or B. Similarly, A^B denotes the occurrence of A and B together.\n",
    " \n",
    " - A and B are said to be mutually exclusive or disjoint if they have no events in common (i.e., A ^ B = {} and P(A^B) = 0 ).\n",
    "\n",
    "\n",
    "  A and B are said to be collectively exhaustive if their union covers all events in the sample space (i.e., AUB = S and P(AUB) =1). This brings us to our next fundamental rule of probability: \n",
    "  \n",
    "  - if 2 events, A and B, are disjoint, then the probability of either event is the sum of the probabilities of the 2 events (i.e., P(A or B) = P(A) + P(B)).\n",
    "\n",
    " - If the outcome of the first event (A) has no impact on the second event (B), then they are considered to be independent (e.g., tossing a fair coin). A and B , are independent, then the probability of both events is the product of the probabilities for each event (i.e., P(A and B) = P(A) x P(B) ).\n",
    "  \n"
   ],
   "cell_type": "markdown",
   "metadata": {}
  },
  {
   "source": [
    "~~~\n",
    "#Task I: In a single toss of  fair six-sided dice, find the probability that their sum will be at most 9:\n",
    "~~~"
   ],
   "cell_type": "markdown",
   "metadata": {}
  },
  {
   "cell_type": "code",
   "execution_count": 1,
   "metadata": {},
   "outputs": [],
   "source": [
    "from fractions import Fraction as frac\n",
    "from collections import defaultdict\n",
    "\n",
    "# two 6s dices \n",
    "dice_one = [1, 2, 3, 4, 5, 6]\n",
    "dice_two = [1, 2, 3, 4, 5, 6]"
   ]
  },
  {
   "cell_type": "code",
   "execution_count": 2,
   "metadata": {},
   "outputs": [
    {
     "output_type": "stream",
     "name": "stdout",
     "text": [
      " D1+D2 : 2 | # Favorable outcomes 1 > [[1, 1]]\n D1+D2 : 3 | # Favorable outcomes 2 > [[1, 2], [2, 1]]\n D1+D2 : 4 | # Favorable outcomes 3 > [[1, 3], [2, 2], [3, 1]]\n D1+D2 : 5 | # Favorable outcomes 4 > [[1, 4], [2, 3], [3, 2], [4, 1]]\n D1+D2 : 6 | # Favorable outcomes 5 > [[1, 5], [2, 4], [3, 3], [4, 2], [5, 1]]\n D1+D2 : 7 | # Favorable outcomes 6 > [[1, 6], [2, 5], [3, 4], [4, 3], [5, 2], [6, 1]]\n D1+D2 : 8 | # Favorable outcomes 5 > [[2, 6], [3, 5], [4, 4], [5, 3], [6, 2]]\n D1+D2 : 9 | # Favorable outcomes 4 > [[3, 6], [4, 5], [5, 4], [6, 3]]\n D1+D2 :10 | # Favorable outcomes 3 > [[4, 6], [5, 5], [6, 4]]\n D1+D2 :11 | # Favorable outcomes 2 > [[5, 6], [6, 5]]\n D1+D2 :12 | # Favorable outcomes 1 > [[6, 6]]\n"
     ]
    }
   ],
   "source": [
    "sample_space = defaultdict(list)\n",
    "# Every possible outcome, combining every side in one dice with all sides of the second dice\n",
    "possible_outcomes  = len([ sample_space[i+j].append([i,j]) for i in dice_one for j in dice_two ])\n",
    "# Given the restriction get all possibel outcomes in which the sum is less or equal 9\n",
    "favorable_outcomes = len([ i+k for i in dice_one for k in dice_two if i+k<=9])\n",
    "# Sample space\n",
    "z = [ print(\" D1+D2 :{:2} | # Favorable outcomes {} > {}\".format(i,len(sample_space[i]),list(sample_space[i]))) for i in sample_space ]"
   ]
  },
  {
   "cell_type": "code",
   "execution_count": 3,
   "metadata": {},
   "outputs": [
    {
     "output_type": "stream",
     "name": "stdout",
     "text": [
      "The probability of tossing 2 dices and the sum being under 9 is P(D1+D2 <= 9) = 30/36= 5/6\n"
     ]
    }
   ],
   "source": [
    "P = frac(favorable_outcomes,possible_outcomes)\n",
    "print(\"The probability of tossing 2 dices and the sum being under 9 is P(D1+D2 <= 9) = {}/{}= {}\".format(favorable_outcomes, possible_outcomes,P))"
   ]
  },
  {
   "source": [
    "#Day 2: More Dice\n",
    "\n",
    "~~~\n",
    "Task II: In a single toss of 2 fair (evenly-weighted) six-sided dice, find the probability \n",
    "         that the values rolled by each die will be different and the two dice have a sum of 6.\n",
    "~~~\n"
   ],
   "cell_type": "markdown",
   "metadata": {}
  },
  {
   "cell_type": "code",
   "execution_count": 4,
   "metadata": {},
   "outputs": [
    {
     "output_type": "stream",
     "name": "stdout",
     "text": [
      "The probability of tossing 2 dices and the sum being 6 and and not same values P(D1+D2 == 6 ! D1 != D2 ) = 4/36= 1/9\n"
     ]
    }
   ],
   "source": [
    "favorable_outcomes_sc2 = len([ i+k for i in dice_one for k in dice_two if i+k==6])\n",
    "# get favorable outcomes for the scenario in which D1 + D2 = 6\n",
    "favorable_outcomes_sc2 = len( [ i for j,i in enumerate(sample_space[6]) if(i[0]!=i[1]) ] )\n",
    "P = frac(favorable_outcomes_sc2,possible_outcomes)\n",
    "print(\"The probability of tossing 2 dices and the sum being 6 and and not same values P(D1+D2 == 6 ! D1 != D2 ) = {}/{}= {}\".format(favorable_outcomes_sc2, possible_outcomes,P))"
   ]
  },
  {
   "source": [
    "~~~\n",
    "TaskIII:\n",
    "There are 3 urns labeled X , Y, and Z.\n",
    "\n",
    "\n",
    "Urn X contains 4 red balls and 3 black balls.\n",
    "Urn Y contains 5 red balls and 4 black balls.\n",
    "Urn Z contains 4 red balls and 4 black balls.\n",
    "\n",
    "One ball is drawn from each of the 3 urns. What is the probability that, of the 3 balls drawn, 2 are red and 1 is black?\n",
    "~~~"
   ],
   "cell_type": "markdown",
   "metadata": {}
  },
  {
   "cell_type": "code",
   "execution_count": 135,
   "metadata": {},
   "outputs": [],
   "source": [
    "import numpy as np\n",
    "from fractions import Fraction as frac\n",
    "\n",
    "def fillUrns(num_red,num_black):\n",
    "    total = num_red + num_black\n",
    "    aux = [ 'red' if i < num_red else 'black' for i in range(total) ] \n",
    "    return list(aux), total\n"
   ]
  },
  {
   "cell_type": "code",
   "execution_count": 172,
   "metadata": {},
   "outputs": [],
   "source": [
    "def proB(arr):\n",
    "    \n",
    "    unique, counts = np.unique(arr, return_counts=True)\n",
    "    aux_prob = { i : frac(k,len(arr))  for i, k in zip(list(unique),list(counts)) }\n",
    "\n",
    "    return aux_prob\n"
   ]
  },
  {
   "cell_type": "code",
   "execution_count": 178,
   "metadata": {},
   "outputs": [
    {
     "output_type": "stream",
     "name": "stdout",
     "text": [
      "The probability out of 3 balls drawn is: 17/42 \n"
     ]
    }
   ],
   "source": [
    "ux,tx = fillUrns(4,3)\n",
    "uy,ty = fillUrns(5,4)\n",
    "uz,tz = fillUrns(4,4)\n",
    "\n",
    "P_ux = proB(ux)\n",
    "P_uy = proB(uy)\n",
    "P_uz = proB(uz)\n",
    "\n",
    "P =  P_ux['red']  * P_uy['red']   * P_uz['black'] \\\n",
    "   + P_ux['red']  * P_uy['black'] * P_uz['red'] \\\n",
    "   + P_ux['black']* P_uy['red']   * P_uz['red']\n",
    "\n",
    "print(\"The probability out of 3 balls drawn is: {} \".format(P))"
   ]
  }
 ]
}