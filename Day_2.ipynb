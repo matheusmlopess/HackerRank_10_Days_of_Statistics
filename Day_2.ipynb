{
 "metadata": {
  "language_info": {
   "codemirror_mode": {
    "name": "ipython",
    "version": 3
   },
   "file_extension": ".py",
   "mimetype": "text/x-python",
   "name": "python",
   "nbconvert_exporter": "python",
   "pygments_lexer": "ipython3",
   "version": "3.8.3"
  },
  "orig_nbformat": 4,
  "kernelspec": {
   "name": "python3",
   "display_name": "Python 3.8.3 64-bit ('base': conda)"
  },
  "interpreter": {
   "hash": "d305bffd9d3fd2239913748dcf493bfc15195005772fd77ecd3617184515f967"
  }
 },
 "nbformat": 4,
 "nbformat_minor": 2,
 "cells": [
  {
   "source": [
    "Day 2: Basic Probability"
   ],
   "cell_type": "markdown",
   "metadata": {}
  },
  {
   "source": [
    "I. Event, Sample Space, and Probability\n",
    "\n",
    "Here are the first two fundamental rules of probability:\n",
    "\n",
    "1. Any probability, P(A) , is a number between 0 and 1 (i.e., 0<= P(a) <= 1 ).\n",
    "2. The probability of the sample space, S , is  (i.e.,P(s) = 1 ).\n",
    "\n",
    "when comes to occurrence and non-occurrence, we can then say P(A) + P(A') = 1 , or the sum of all possible outcomes of (A) in the sample space is equal to 1 . This is the third fundamental rule of probability: \n",
    "\n",
    "3. P(A') = 1 - P(A)\n",
    "\n",
    "II. Compound Events, Mutually Exclusive Events, and Collectively Exhaustive Events\n",
    "\n",
    " - A compound event is a combination of 2 or more simple events. If A and B are simple events, then A U B denotes the occurrence of either A or B. Similarly, A^B denotes the occurrence of A and B together.\n",
    " \n",
    " - A and B are said to be mutually exclusive or disjoint if they have no events in common (i.e., A ^ B = {} and P(A^B) = 0 ).\n",
    "\n",
    "\n",
    "  A and B are said to be collectively exhaustive if their union covers all events in the sample space (i.e., AUB = S and P(AUB) =1). This brings us to our next fundamental rule of probability: \n",
    "  \n",
    "  - if 2 events, A and B, are disjoint, then the probability of either event is the sum of the probabilities of the 2 events (i.e., P(A or B) = P(A) + P(B)).\n",
    "\n",
    " - If the outcome of the first event (A) has no impact on the second event (B), then they are considered to be independent (e.g., tossing a fair coin). A and B , are independent, then the probability of both events is the product of the probabilities for each event (i.e., P(A and B) = P(A) x P(B) ).\n",
    "  \n"
   ],
   "cell_type": "markdown",
   "metadata": {}
  },
  {
   "cell_type": "code",
   "execution_count": 4,
   "metadata": {},
   "outputs": [],
   "source": [
    "#Task: In a single toss of  fair six-sided dice, find the probability that their sum will be at most 9:\n",
    "\n",
    "# two 6s dices \n",
    "dice_one = [1, 2, 3, 4, 5, 6]\n",
    "dice_two = [1, 2, 3, 4, 5, 6]\n",
    "\n",
    "sum_dice = [ i+j for i,j in zip (dice_one, dice_two) ]\n",
    "sum_dice_obo = [ i+j for i in dice_one for j in dice_two ]\n",
    "\n"
   ]
  },
  {
   "cell_type": "code",
   "execution_count": 5,
   "metadata": {},
   "outputs": [
    {
     "output_type": "stream",
     "name": "stdout",
     "text": [
      "i : 1 j: 1 i+j: 2\ni : 1 j: 2 i+j: 3\ni : 1 j: 3 i+j: 4\ni : 1 j: 4 i+j: 5\ni : 1 j: 5 i+j: 6\ni : 1 j: 6 i+j: 7\ni : 2 j: 1 i+j: 3\ni : 2 j: 2 i+j: 4\ni : 2 j: 3 i+j: 5\ni : 2 j: 4 i+j: 6\ni : 2 j: 5 i+j: 7\ni : 2 j: 6 i+j: 8\ni : 3 j: 1 i+j: 4\ni : 3 j: 2 i+j: 5\ni : 3 j: 3 i+j: 6\ni : 3 j: 4 i+j: 7\ni : 3 j: 5 i+j: 8\ni : 3 j: 6 i+j: 9\ni : 4 j: 1 i+j: 5\ni : 4 j: 2 i+j: 6\ni : 4 j: 3 i+j: 7\ni : 4 j: 4 i+j: 8\ni : 4 j: 5 i+j: 9\ni : 4 j: 6 i+j: 10\ni : 5 j: 1 i+j: 6\ni : 5 j: 2 i+j: 7\ni : 5 j: 3 i+j: 8\ni : 5 j: 4 i+j: 9\ni : 5 j: 5 i+j: 10\ni : 5 j: 6 i+j: 11\ni : 6 j: 1 i+j: 7\ni : 6 j: 2 i+j: 8\ni : 6 j: 3 i+j: 9\ni : 6 j: 4 i+j: 10\ni : 6 j: 5 i+j: 11\ni : 6 j: 6 i+j: 12\n"
     ]
    }
   ],
   "source": [
    "dic = []\n",
    "for i in dice_one:\n",
    "    for j in dice_two:\n",
    "        print(\"i : {} j: {} i+j: {}\".format(i, j, i+j))\n",
    "        if (i+j <= 9):\n",
    "            dic.append([i, j])\n"
   ]
  },
  {
   "cell_type": "code",
   "execution_count": 29,
   "metadata": {},
   "outputs": [
    {
     "output_type": "execute_result",
     "data": {
      "text/plain": [
       "{2: None,\n",
       " 3: None,\n",
       " 4: None,\n",
       " 5: None,\n",
       " 6: None,\n",
       " 7: None,\n",
       " 8: None,\n",
       " 9: None,\n",
       " 10: None,\n",
       " 11: None,\n",
       " 12: None}"
      ]
     },
     "metadata": {},
     "execution_count": 29
    }
   ],
   "source": [
    "dic = []\n",
    "from \n",
    "comb = { i+j :  for i in dice_one for j in dice_two }\n",
    "comb"
   ]
  },
  {
   "cell_type": "code",
   "execution_count": 34,
   "metadata": {},
   "outputs": [
    {
     "output_type": "stream",
     "name": "stdout",
     "text": [
      "5/6\n"
     ]
    }
   ],
   "source": [
    "from fractions import Fraction\n",
    "print (Fraction(30,36))"
   ]
  },
  {
   "cell_type": "code",
   "execution_count": 4,
   "metadata": {},
   "outputs": [
    {
     "output_type": "execute_result",
     "data": {
      "text/plain": [
       "2"
      ]
     },
     "metadata": {},
     "execution_count": 4
    }
   ],
   "source": [
    "dic"
   ]
  }
 ]
}