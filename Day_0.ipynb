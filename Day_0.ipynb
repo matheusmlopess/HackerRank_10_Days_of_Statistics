{
 "metadata": {
  "language_info": {
   "codemirror_mode": {
    "name": "ipython",
    "version": 3
   },
   "file_extension": ".py",
   "mimetype": "text/x-python",
   "name": "python",
   "nbconvert_exporter": "python",
   "pygments_lexer": "ipython3",
   "version": "3.8.3"
  },
  "orig_nbformat": 4,
  "kernelspec": {
   "name": "python3",
   "display_name": "Python 3.8.3 64-bit ('base': conda)"
  },
  "interpreter": {
   "hash": "d305bffd9d3fd2239913748dcf493bfc15195005772fd77ecd3617184515f967"
  }
 },
 "nbformat": 4,
 "nbformat_minor": 2,
 "cells": [
  {
   "source": [
    "# Day 0: Mean, Median, and Mode"
   ],
   "cell_type": "markdown",
   "metadata": {}
  },
  {
   "cell_type": "code",
   "execution_count": 101,
   "metadata": {},
   "outputs": [],
   "source": [
    "# Enter your code here. Read input from STDIN. Print output to STDOUT\n",
    "#X = int(input())\n",
    "#N = input()\n",
    "X = 10\n",
    "N = '64630 11735 14216 99233 14470 4978 73429 38120 51135 67060'\n",
    "\n",
    "Ns = map( int , N.split())\n",
    "Nsortd = sorted(Ns)\n",
    "rem_duplicates = sorted(list(set(Nsortd)))\n",
    "mid = X//2 \n",
    "dicT = { rem_duplicates[idx] : 0 for idx in range(len(rem_duplicates))}"
   ]
  },
  {
   "cell_type": "code",
   "execution_count": 103,
   "metadata": {},
   "outputs": [
    {
     "output_type": "stream",
     "name": "stdout",
     "text": [
      "[4978, 11735, 14216, 14470, 38120, 51135, 64630, 67060, 73429, 99233]\n[4978, 11735, 14216, 14470, 38120, 51135, 64630, 67060, 73429, 99233]\n"
     ]
    },
    {
     "output_type": "execute_result",
     "data": {
      "text/plain": [
       "{4978: 0,\n",
       " 11735: 0,\n",
       " 14216: 0,\n",
       " 14470: 0,\n",
       " 38120: 0,\n",
       " 51135: 0,\n",
       " 64630: 0,\n",
       " 67060: 0,\n",
       " 73429: 0,\n",
       " 99233: 0}"
      ]
     },
     "metadata": {},
     "execution_count": 103
    }
   ],
   "source": [
    "print(Nsortd)\n",
    "print(rem_duplicates)\n",
    "dicT\n"
   ]
  },
  {
   "cell_type": "code",
   "execution_count": 104,
   "metadata": {},
   "outputs": [
    {
     "output_type": "stream",
     "name": "stdout",
     "text": [
      "43900.6\n44627.5\n"
     ]
    }
   ],
   "source": [
    "avg = sum(Nsortd)/X\n",
    "print(avg)\n",
    "\n",
    "if X % 2 > 0:\n",
    "    mean = Nsortd[ mid ]\n",
    "    print(mean) \n",
    "\n",
    "else:\n",
    "    mean = (Nsortd[mid]+Nsortd[mid -1])/2\n",
    "    print(mean) "
   ]
  },
  {
   "cell_type": "code",
   "execution_count": 106,
   "metadata": {},
   "outputs": [
    {
     "output_type": "stream",
     "name": "stdout",
     "text": [
      "4978\n"
     ]
    }
   ],
   "source": [
    "# Mode operation\n",
    "for i in Nsortd:\n",
    "    if i in dicT:\n",
    "        dicT[i] = dicT[i] + 1\n",
    "        \n",
    "mode = max(dicT, key=dicT.get)\n",
    "print(mode) "
   ]
  },
  {
   "cell_type": "code",
   "execution_count": 23,
   "metadata": {},
   "outputs": [
    {
     "output_type": "stream",
     "name": "stdout",
     "text": [
      "43900.6\n44627.5\n4978\n"
     ]
    }
   ],
   "source": [
    "print(avg)\n",
    "print(mean)\n",
    "print(mode)"
   ]
  },
  {
   "source": [
    "# Day 0: Weighted Mean"
   ],
   "cell_type": "markdown",
   "metadata": {}
  },
  {
   "cell_type": "code",
   "execution_count": 97,
   "metadata": {},
   "outputs": [],
   "source": [
    "#!/bin/python3\n",
    "# Complete the 'weightedMean' function below.\n",
    "# The function accepts following parameters:\n",
    "#  1. INTEGER_ARRAY X\n",
    "#  2. INTEGER_ARRAY W\n",
    "\n",
    "def weightedMean(X, W):\n",
    "\n",
    "    prod_waited = [ valx * valw for valx, valw in zip(X,W) ]\n",
    "    V_sum = sum(prod_waited)\n",
    "    W_sum = sum(W)\n",
    "\n",
    "    mean_waited = V_sum / W_sum\n",
    "    print(V_sum)\n",
    "    print(W_sum)\n",
    "    print(round(mean_waited,1))"
   ]
  },
  {
   "cell_type": "code",
   "execution_count": 100,
   "metadata": {},
   "outputs": [
    {
     "output_type": "stream",
     "name": "stdout",
     "text": [
      "1754\n36\n48.7\n"
     ]
    }
   ],
   "source": [
    "if __name__ == '__main__':\n",
    "\n",
    "    n = 5                                             #int(input().strip())\n",
    "\n",
    "    vals = '10 40 30 50 20 56 78 49'\n",
    "    V_s = list(map(int, vals.rstrip().split()))       #list(map(int, input().rstrip().split()))\n",
    "\n",
    "    weights = '1 2 3 4 5 6 7 8'\n",
    "    W_s = list(map(int, weights.rstrip().split()))    #dic2 = { W_s }\n",
    "\n",
    "    weightedMean(V_s, W_s)                             #weightedMean(vals, weights)"
   ]
  },
  {
   "cell_type": "code",
   "execution_count": 96,
   "metadata": {},
   "outputs": [
    {
     "output_type": "stream",
     "name": "stdout",
     "text": [
      "{10: [1, 10], 40: [2, 80], 30: [3, 90], 50: [4, 200], 20: [5, 100]}\n"
     ]
    }
   ],
   "source": [
    "    WV = { V_ss : [ W_ss, W_ss*V_ss] for V_ss , W_ss in zip(V_s, W_s) }\n",
    "    print(WV)"
   ]
  }
 ]
}