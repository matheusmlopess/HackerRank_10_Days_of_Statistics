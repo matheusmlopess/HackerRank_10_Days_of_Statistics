{
 "metadata": {
  "language_info": {
   "codemirror_mode": {
    "name": "ipython",
    "version": 3
   },
   "file_extension": ".py",
   "mimetype": "text/x-python",
   "name": "python",
   "nbconvert_exporter": "python",
   "pygments_lexer": "ipython3",
   "version": "3.8.3"
  },
  "orig_nbformat": 4,
  "kernelspec": {
   "name": "python3",
   "display_name": "Python 3.8.3 64-bit ('base': conda)"
  },
  "interpreter": {
   "hash": "d305bffd9d3fd2239913748dcf493bfc15195005772fd77ecd3617184515f967"
  }
 },
 "nbformat": 4,
 "nbformat_minor": 2,
 "cells": [
  {
   "cell_type": "code",
   "execution_count": 19,
   "metadata": {},
   "outputs": [],
   "source": [
    "# Enter your code here. Read input from STDIN. Print output to STDOUT\n",
    "#X = int(input())\n",
    "#N = input()\n",
    "X = 10\n",
    "N = '64630 11735 14216 99233 14470 4978 73429 38120 51135 67060'\n",
    "\n",
    "Ns = map( int , N.split())\n",
    "Nsortd = sorted(Ns)\n",
    "rem_duplicates = sorted(list(set(Nsortd)))\n",
    "mid = X//2 \n",
    "dicT = { rem_duplicates[idx] : 0 for idx in range(len(rem_duplicates))}"
   ]
  },
  {
   "cell_type": "code",
   "execution_count": 20,
   "metadata": {},
   "outputs": [
    {
     "output_type": "stream",
     "name": "stdout",
     "text": [
      "[4978, 11735, 14216, 14470, 38120, 51135, 64630, 67060, 73429, 99233]\n[4978, 11735, 14216, 14470, 38120, 51135, 64630, 67060, 73429, 99233]\n"
     ]
    },
    {
     "output_type": "execute_result",
     "data": {
      "text/plain": [
       "{4978: 0,\n",
       " 11735: 0,\n",
       " 14216: 0,\n",
       " 14470: 0,\n",
       " 38120: 0,\n",
       " 51135: 0,\n",
       " 64630: 0,\n",
       " 67060: 0,\n",
       " 73429: 0,\n",
       " 99233: 0}"
      ]
     },
     "metadata": {},
     "execution_count": 20
    }
   ],
   "source": [
    "print(Nsortd)\n",
    "print(rem_duplicates)\n",
    "dic\n"
   ]
  },
  {
   "cell_type": "code",
   "execution_count": 21,
   "metadata": {},
   "outputs": [
    {
     "output_type": "stream",
     "name": "stdout",
     "text": [
      "43900.6\n44627.5\n"
     ]
    }
   ],
   "source": [
    "avg = sum(Nsortd)/X\n",
    "print(avg)\n",
    "\n",
    "if X % 2 > 0:\n",
    "    mean = Nsortd[ mid ]\n",
    "    print(mean) \n",
    "\n",
    "else:\n",
    "    mean = (Nsortd[mid]+Nsortd[mid -1])/2\n",
    "    #print(mean) "
   ]
  },
  {
   "cell_type": "code",
   "execution_count": 22,
   "metadata": {},
   "outputs": [
    {
     "output_type": "stream",
     "name": "stdout",
     "text": [
      "4978\n"
     ]
    }
   ],
   "source": [
    "# Mode operation\n",
    "for i in Nsortd:\n",
    "    if i in dicT:\n",
    "        dicT[i] = dicT[i] + 1\n",
    "        \n",
    "mode = max(dicT, key=dicT.get)\n",
    "#print(mode) "
   ]
  },
  {
   "cell_type": "code",
   "execution_count": 23,
   "metadata": {},
   "outputs": [
    {
     "output_type": "stream",
     "name": "stdout",
     "text": [
      "43900.6\n44627.5\n4978\n"
     ]
    }
   ],
   "source": [
    "print(avg)\n",
    "print(mean)\n",
    "print(mode)"
   ]
  }
 ]
}