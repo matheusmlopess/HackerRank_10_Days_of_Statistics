{
 "metadata": {
  "language_info": {
   "codemirror_mode": {
    "name": "ipython",
    "version": 3
   },
   "file_extension": ".py",
   "mimetype": "text/x-python",
   "name": "python",
   "nbconvert_exporter": "python",
   "pygments_lexer": "ipython3",
   "version": "3.8.3"
  },
  "orig_nbformat": 4,
  "kernelspec": {
   "name": "python3",
   "display_name": "Python 3.8.3 64-bit ('base': conda)"
  },
  "interpreter": {
   "hash": "d305bffd9d3fd2239913748dcf493bfc15195005772fd77ecd3617184515f967"
  }
 },
 "nbformat": 4,
 "nbformat_minor": 2,
 "cells": [
  {
   "source": [
    "#Day 3: Conditional Probability\n",
    "\n",
    "\n",
    "> Objective : In this challenge, we get started with conditional probability. Check out the Tutorial tab for learning materials!\n",
    "\n",
    "\n",
    "> Task : Suppose a family has 2 children, one of which is a boy. What is the probability that both children are boys?"
   ],
   "cell_type": "markdown",
   "metadata": {}
  },
  {
   "cell_type": "code",
   "execution_count": 89,
   "metadata": {},
   "outputs": [],
   "source": [
    "oneKid = ['boy','grrl']\n",
    "twoKid = ['boy','grrl']"
   ]
  },
  {
   "cell_type": "code",
   "execution_count": 87,
   "metadata": {},
   "outputs": [
    {
     "output_type": "stream",
     "name": "stdout",
     "text": [
      "[['boy', 'boy'], ['boy', 'grrl'], ['grrl', 'boy'], ['grrl', 'grrl']]\n"
     ]
    }
   ],
   "source": [
    "sample_space = [ [ i , k ] for i in oneKid for k in twoKid  ]\n",
    "print(sample_space)"
   ]
  },
  {
   "cell_type": "code",
   "execution_count": 88,
   "metadata": {},
   "outputs": [
    {
     "output_type": "stream",
     "name": "stdout",
     "text": [
      "[['boy', 'boy'], ['boy', 'grrl'], ['grrl', 'boy']]\n"
     ]
    }
   ],
   "source": [
    "sub_sample_space = [ i for i in sample_space if 'boy' in i ]\n",
    "print(sub_sample_space)"
   ]
  },
  {
   "cell_type": "code",
   "execution_count": 91,
   "metadata": {},
   "outputs": [
    {
     "output_type": "stream",
     "name": "stdout",
     "text": [
      "[['boy', 'boy']]\n"
     ]
    }
   ],
   "source": [
    "BB = [ i  for i in sub_sample_space if i[0] == i[1] ]\n",
    "print(BB)"
   ]
  },
  {
   "cell_type": "code",
   "execution_count": 96,
   "metadata": {},
   "outputs": [
    {
     "output_type": "stream",
     "name": "stdout",
     "text": [
      "The probablility of having teo boys is P = 1/3 = 0.33\n"
     ]
    }
   ],
   "source": [
    "# Probability of BB given 1 kid is a boy already\n",
    "# P( BB | _B ) = BB / (BB + BG + GB) \n",
    "P = len(BB)/len(sub_sample_space)\n",
    "print(\"The probablility of having teo boys is P = {}/{} = {}\".format(len(BB),len(sub_sample_space),round(P,2)))"
   ]
  }
 ]
}