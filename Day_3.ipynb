{
 "metadata": {
  "language_info": {
   "codemirror_mode": {
    "name": "ipython",
    "version": 3
   },
   "file_extension": ".py",
   "mimetype": "text/x-python",
   "name": "python",
   "nbconvert_exporter": "python",
   "pygments_lexer": "ipython3",
   "version": "3.8.5"
  },
  "orig_nbformat": 4,
  "kernelspec": {
   "name": "python3",
   "display_name": "Python 3.8.5 64-bit"
  },
  "interpreter": {
   "hash": "02bbb0a79b540d73fba9780f1267eb128e7728efc6ab6277643847442c665eb7"
  }
 },
 "nbformat": 4,
 "nbformat_minor": 2,
 "cells": [
  {
   "source": [
    "#Day 3: Conditional Probability\n",
    "> Task : Suppose a family has 2 children, one of which is a boy. What is the probability that both children are boys?"
   ],
   "cell_type": "markdown",
   "metadata": {}
  },
  {
   "cell_type": "code",
   "execution_count": 1,
   "metadata": {},
   "outputs": [],
   "source": [
    "oneKid = ['boy','grrl']\n",
    "twoKid = ['boy','grrl']"
   ]
  },
  {
   "cell_type": "code",
   "execution_count": 2,
   "metadata": {},
   "outputs": [
    {
     "output_type": "stream",
     "name": "stdout",
     "text": [
      "[['boy', 'boy'], ['boy', 'grrl'], ['grrl', 'boy'], ['grrl', 'grrl']]\n"
     ]
    }
   ],
   "source": [
    "sample_space = [ [ i , k ] for i in oneKid for k in twoKid  ]\n",
    "print(sample_space)"
   ]
  },
  {
   "cell_type": "code",
   "execution_count": 3,
   "metadata": {},
   "outputs": [
    {
     "output_type": "stream",
     "name": "stdout",
     "text": [
      "[['boy', 'boy'], ['boy', 'grrl'], ['grrl', 'boy']]\n"
     ]
    }
   ],
   "source": [
    "sub_sample_space = [ i for i in sample_space if 'boy' in i ]\n",
    "print(sub_sample_space)"
   ]
  },
  {
   "cell_type": "code",
   "execution_count": 4,
   "metadata": {},
   "outputs": [
    {
     "output_type": "stream",
     "name": "stdout",
     "text": [
      "[['boy', 'boy']]\n"
     ]
    }
   ],
   "source": [
    "BB = [ i  for i in sub_sample_space if i[0] == i[1] ]\n",
    "print(BB)"
   ]
  },
  {
   "cell_type": "code",
   "execution_count": 5,
   "metadata": {},
   "outputs": [
    {
     "output_type": "stream",
     "name": "stdout",
     "text": [
      "The probablility of having teo boys is P = 1/3 = 0.33\n"
     ]
    }
   ],
   "source": [
    "# Probability of BB given 1 kid is a boy already\n",
    "# P( BB | _B ) = BB / (BB + BG + GB) \n",
    "P = len(BB)/len(sub_sample_space)\n",
    "print(\"The probablility of having teo boys is P = {}/{} = {}\".format(len(BB),len(sub_sample_space),round(P,2)))"
   ]
  },
  {
   "source": [
    "#Day 3: Cards of the Same Suit\n",
    "\n",
    ">Task II: You draw 2 cards from a standard 52-card deck without replacing them. What is the probability that both cards are of the same suit?\n"
   ],
   "cell_type": "markdown",
   "metadata": {}
  },
  {
   "cell_type": "code",
   "execution_count": 6,
   "metadata": {},
   "outputs": [],
   "source": [
    "from fractions import Fraction as frac\n",
    "def deck(a):\n",
    "    return [a+'A',a+'2',a+'3',a+'4',a+'5',a+'6',a+'7',a+'8',a+'9',a+'10',a+'J',a+'Q',a+'K']"
   ]
  },
  {
   "cell_type": "code",
   "execution_count": 7,
   "metadata": {},
   "outputs": [],
   "source": [
    "full_deck = {'hearts':deck('H'), 'spades':deck('S'), 'clubs':deck('C'), 'diamonds':deck('D')}\n",
    "len([*full_deck.values()][2])\n",
    "deck_numb_cards = sum([ len([*full_deck.values()][i] ) for i in range(4) ] )"
   ]
  },
  {
   "cell_type": "code",
   "execution_count": 8,
   "metadata": {},
   "outputs": [
    {
     "output_type": "execute_result",
     "data": {
      "text/plain": [
       "'HK'"
      ]
     },
     "metadata": {},
     "execution_count": 8
    }
   ],
   "source": [
    "#taken one card of the deck\n",
    "full_deck['hearts'].pop()"
   ]
  },
  {
   "cell_type": "code",
   "execution_count": 9,
   "metadata": {},
   "outputs": [
    {
     "output_type": "stream",
     "name": "stdout",
     "text": [
      "12\n"
     ]
    }
   ],
   "source": [
    " #the favorable outcomes is now the same suit - one card\n",
    " favorable_outcome = len(full_deck['hearts'])\n",
    " print(favorable_outcome)"
   ]
  },
  {
   "cell_type": "code",
   "execution_count": 10,
   "metadata": {},
   "outputs": [
    {
     "output_type": "stream",
     "name": "stdout",
     "text": [
      "The probabily of both cars are from heart suit is 12/(52-1) = 12/51 =  4/17 \n"
     ]
    }
   ],
   "source": [
    "#P(C1hearts and C2heatys)\n",
    "P_HH = frac(favorable_outcome,(deck_numb_cards-1))\n",
    "print(\"The probabily of both cars are from heart suit is {}/({}-1) = {}/{} =  {} \".format(favorable_outcome,deck_numb_cards,favorable_outcome,deck_numb_cards-1,frac(P_HH)))"
   ]
  },
  {
   "source": [
    "#Day 3: Drawing Marbles\n",
    "\n",
    "> Task III: A bag contains 3 red marbles and 4 blue marbles. Then, 2 marbles are drawn from the bag, at random,\n",
    "\n",
    "> without replacement. If the first marble drawn is red, what is the probability that the second marble is blue?\n",
    "\n"
   ],
   "cell_type": "markdown",
   "metadata": {}
  },
  {
   "cell_type": "code",
   "execution_count": 11,
   "metadata": {},
   "outputs": [],
   "source": [
    "red_bol =3\n",
    "blue_bol =4\n",
    "\n",
    "bag = [  'red' if i<red_bol else 'blue' for i in range(red_bol+blue_bol) ]"
   ]
  },
  {
   "cell_type": "code",
   "execution_count": 12,
   "metadata": {},
   "outputs": [
    {
     "output_type": "execute_result",
     "data": {
      "text/plain": [
       "'red'"
      ]
     },
     "metadata": {},
     "execution_count": 12
    }
   ],
   "source": [
    "bag.pop(1)"
   ]
  },
  {
   "cell_type": "code",
   "execution_count": 13,
   "metadata": {},
   "outputs": [
    {
     "output_type": "stream",
     "name": "stdout",
     "text": [
      "The probability of the 2 ball drawed is 4/(2+4) =  4/6 =  2/3\n"
     ]
    }
   ],
   "source": [
    "\n",
    "remaining_red = len([ 'red' for i in bag if i == 'red' ])\n",
    "remaining_blue = len([ 'blue' for i in bag if i == 'blue' ])\n",
    "\n",
    "P_HB = frac(remaining_blue,(remaining_red+remaining_blue))\n",
    "\n",
    "print(\"The probability of the 2 ball drawed is {}/({}+{}) =  {}/{} =  {}\".format(remaining_blue,remaining_red,remaining_blue,remaining_blue,remaining_red+remaining_blue,P_HB))"
   ]
  }
 ]
}