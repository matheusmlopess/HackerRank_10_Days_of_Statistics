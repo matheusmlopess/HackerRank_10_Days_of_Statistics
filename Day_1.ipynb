{
 "metadata": {
  "language_info": {
   "codemirror_mode": {
    "name": "ipython",
    "version": 3
   },
   "file_extension": ".py",
   "mimetype": "text/x-python",
   "name": "python",
   "nbconvert_exporter": "python",
   "pygments_lexer": "ipython3",
   "version": "3.8.3"
  },
  "orig_nbformat": 4,
  "kernelspec": {
   "name": "python3",
   "display_name": "Python 3.8.3 64-bit ('base': conda)"
  },
  "interpreter": {
   "hash": "d305bffd9d3fd2239913748dcf493bfc15195005772fd77ecd3617184515f967"
  }
 },
 "nbformat": 4,
 "nbformat_minor": 2,
 "cells": [
  {
   "source": [
    "# Day 1: Quartiles - challenge 1"
   ],
   "cell_type": "markdown",
   "metadata": {}
  },
  {
   "source": [
    "1. median - get results in order\n",
    "2. find middle point - if par avg the midle numbers\n",
    "3. find the midina of the other two halfs \n",
    "4. iQR\n",
    "\n"
   ],
   "cell_type": "markdown",
   "metadata": {}
  },
  {
   "cell_type": "code",
   "execution_count": 1,
   "metadata": {},
   "outputs": [],
   "source": [
    "# can use this bibs\n",
    "import math\n",
    "import os\n",
    "import random\n",
    "import re\n",
    "import sys"
   ]
  },
  {
   "cell_type": "code",
   "execution_count": 2,
   "metadata": {},
   "outputs": [],
   "source": [
    "def quartiles(arr):\n",
    "    \n",
    "    arr = sorted(arr)\n",
    "    siz = len(arr)\n",
    " \n",
    "    if siz%2 >0:\n",
    "        Q = arr[siz // 2]\n",
    "        arrInf = arr[:siz // 2]\n",
    "        arrSup = arr[(siz // 2)+1:]\n",
    "        return int(Q), arrInf, arrSup\n",
    "\n",
    "    else:\n",
    "        Q = (arr[siz// 2] + arr[siz // 2 - 1 ])/2\n",
    "        arrInf = arr[:(siz // 2)]\n",
    "        arrSup = arr[(siz // 2):]\n",
    "        return int(Q), arrInf, arrSup"
   ]
  },
  {
   "cell_type": "code",
   "execution_count": 3,
   "metadata": {},
   "outputs": [],
   "source": [
    "def quartiles2(arr):\n",
    "    \n",
    "    arr = sorted(arr)\n",
    "    siz = len(arr)\n",
    "    \n",
    "    if siz%2 >0:\n",
    "        Q = arr[siz // 2]\n",
    "        arrInf = arr[:siz // 2]\n",
    "        arrSup = arr[(siz // 2)+1:]\n",
    "\n",
    "        if (len(arrInf)%2>0):\n",
    "            Q2 = arrInf[len(arrInf) // 2]\n",
    "            Q3 = arrSup[len(arrSup) // 2]\n",
    "        else:\n",
    "            Q2 = (arrInf[len(arrInf)// 2] + arrInf[len(arrInf) // 2 - 1 ])/2\n",
    "            Q3 = (arrSup[len(arrSup)// 2] + arrSup[len(arrSup) // 2 - 1 ])/2\n",
    "\n",
    "        return [ int(Q2), int(Q) , int(Q3)]\n",
    "\n",
    "    else:\n",
    "        Q = (arr[siz// 2] + arr[siz // 2 - 1 ])/2\n",
    "        arrInf = arr[:(siz // 2)]\n",
    "        arrSup = arr[(siz // 2):]\n",
    "\n",
    "        if (len(arrInf)%2>0):\n",
    "            Q2 = arrInf[len(arrInf) // 2]\n",
    "            Q3 = arrSup[len(arrSup) // 2]\n",
    "        else:\n",
    "            Q2 = (arrInf[len(arrInf)// 2] + arrInf[len(arrInf) // 2 - 1 ])/2\n",
    "            Q3 = (arrSup[len(arrSup)// 2] + arrSup[len(arrSup) // 2 - 1 ])/2\n",
    "       \n",
    "        return [ int(Q2), int(Q) , int(Q3)]"
   ]
  },
  {
   "cell_type": "code",
   "execution_count": 4,
   "metadata": {},
   "outputs": [
    {
     "output_type": "stream",
     "name": "stdout",
     "text": [
      "------------------------------------------------------------------------------- \nData -->         [3, 7, 8, 5, 12, 14, 21, 13, 18]\nSorted Data -->  [3, 5, 7, 8, 12, 13, 14, 18, 21] \n\nQ1 [subsets] >  6 [3, 5, 7, 8] [13, 14, 18, 21]\nQ2 [subsets] >  12 [3, 5] [7, 8]\nQ3 [subsets] >  16 [13, 14] [18, 21]\nfunc1 results                      Quartiles: -->>>  [6, 12, 16]\nfunc1 results                      Quartiles: -->>>  [6, 12, 16] \n\n------------------------------------------------------------------------------- \nData -->         [59, 60, 65, 65, 68, 69, 70, 72, 75, 75, 76, 77, 81, 82, 84, 87, 90, 95, 98]\nSorted Data -->  [59, 60, 65, 65, 68, 69, 70, 72, 75, 75, 76, 77, 81, 82, 84, 87, 90, 95, 98] \n\nQ1 [subsets] >  68 [59, 60, 65, 65, 68, 69, 70, 72, 75] [76, 77, 81, 82, 84, 87, 90, 95, 98]\nQ2 [subsets] >  75 [59, 60, 65, 65] [69, 70, 72, 75]\nQ3 [subsets] >  84 [76, 77, 81, 82] [87, 90, 95, 98]\nfunc1 results                      Quartiles: -->>>  [68, 75, 84]\nfunc1 results                      Quartiles: -->>>  [68, 75, 84] \n\n------------------------------------------------------------------------------- \nData -->         [1, 3, 3, 4, 5, 6, 6, 7, 8, 8]\nSorted Data -->  [1, 3, 3, 4, 5, 6, 6, 7, 8, 8] \n\nQ1 [subsets] >  3 [1, 3, 3, 4, 5] [6, 6, 7, 8, 8]\nQ2 [subsets] >  5 [1, 3] [4, 5]\nQ3 [subsets] >  7 [6, 6] [8, 8]\nfunc1 results                      Quartiles: -->>>  [3, 5, 7]\nfunc1 results                      Quartiles: -->>>  [3, 5, 7] \n\n------------------------------------------------------------------------------- \nData -->         [6, 7, 15, 36, 39, 40, 41, 42, 43, 47, 49]\nSorted Data -->  [6, 7, 15, 36, 39, 40, 41, 42, 43, 47, 49] \n\nQ1 [subsets] >  15 [6, 7, 15, 36, 39] [41, 42, 43, 47, 49]\nQ2 [subsets] >  40 [6, 7] [36, 39]\nQ3 [subsets] >  43 [41, 42] [47, 49]\nfunc1 results                      Quartiles: -->>>  [15, 40, 43]\nfunc1 results                      Quartiles: -->>>  [15, 40, 43] \n\n------------------------------------------------------------------------------- \nData -->         [7, 15, 36, 39, 40, 41]\nSorted Data -->  [7, 15, 36, 39, 40, 41] \n\nQ1 [subsets] >  15 [7, 15, 36] [39, 40, 41]\nQ2 [subsets] >  37 [7] [36]\nQ3 [subsets] >  40 [39] [41]\nfunc1 results                      Quartiles: -->>>  [15, 37, 40]\nfunc1 results                      Quartiles: -->>>  [15, 37, 40] \n\n------------------------------------------------------------------------------- \nData -->         [10, 40, 30, 50, 20]\nSorted Data -->  [10, 20, 30, 40, 50] \n\nQ1 [subsets] >  15 [10, 20] [40, 50]\nQ2 [subsets] >  30 [10] [20]\nQ3 [subsets] >  45 [40] [50]\nfunc1 results                      Quartiles: -->>>  [15, 30, 45]\nfunc1 results                      Quartiles: -->>>  [15, 30, 45] \n\n------------------------------------------------------------------------------- \nData -->         [2, 5, 2, 7, 4]\nSorted Data -->  [2, 2, 4, 5, 7] \n\nQ1 [subsets] >  2 [2, 2] [5, 7]\nQ2 [subsets] >  4 [2] [2]\nQ3 [subsets] >  6 [5] [7]\nfunc1 results                      Quartiles: -->>>  [2, 4, 6]\nfunc1 results                      Quartiles: -->>>  [2, 4, 6] \n\n"
     ]
    }
   ],
   "source": [
    "if __name__ == '__main__':\n",
    "\n",
    "    fptr  = open('in_out_puts/input_day1.txt', 'r')\n",
    "    fptr2 = open('in_out_puts/output_day1.txt', 'w')\n",
    "    count = 2\n",
    "    dic = {}\n",
    "    aux = []\n",
    "\n",
    "for x in fptr:\n",
    "\n",
    "    if count%2 > 0:\n",
    "       x1 = list(map(int,str(x).split()))\n",
    "       dic[aux] = x1\n",
    "    else:\n",
    "       x2 = list(map(int,str(x).split()))\n",
    "       aux = x2[0] \n",
    "    count += 1\n",
    "\n",
    "for i in dic:\n",
    "    n = i\n",
    "    data = dic.get(i)\n",
    "    \n",
    "    teste = quartiles2(data)\n",
    "    \n",
    "    Q_2, a1, b1= quartiles(data)\n",
    "    Q_1, a2, b2= quartiles(a1)\n",
    "    Q_3, a3, b3= quartiles(b1)\n",
    "\n",
    "    print(\"------------------------------------------------------------------------------- \")\n",
    "    print(\"Data -->        \", data)\n",
    "    print(\"Sorted Data --> \",sorted(data),\"\\n\")\n",
    "    print(\"Q1 [subsets] > \", Q_1, a1, b1)\n",
    "    print(\"Q2 [subsets] > \", Q_2, a2, b2)\n",
    "    print(\"Q3 [subsets] > \", Q_3, a3, b3)\n",
    "\n",
    "    res = [Q_1, Q_2, Q_3]\n",
    "\n",
    "    print(\"func1 results                      Quartiles: -->>> \", teste )\n",
    "    print(\"func1 results                      Quartiles: -->>> \" ,res, \"\\n\")\n",
    "\n",
    "    fptr2.write('\\n'.join(map(str, res)))\n",
    "    fptr2.write('\\n')\n",
    "    \n",
    "fptr.close()\n",
    "fptr2.close()"
   ]
  },
  {
   "source": [
    "#Day 1: Interquartile Range"
   ],
   "cell_type": "markdown",
   "metadata": {}
  },
  {
   "cell_type": "code",
   "execution_count": 5,
   "metadata": {},
   "outputs": [],
   "source": [
    "def interQuartile(values, freqs):\n",
    "        \n",
    "    arr = [ values[i] for i,fd in enumerate(freqs, 0) for c in range(fd)]\n",
    "    print(\"             array > \", arr)\n",
    "    \n",
    "    siz = len(arr)\n",
    "    arr = sorted(arr)\n",
    "    \n",
    "    print(\"\\n\",\"sorted array array > \",arr)\n",
    "    \n",
    "    if siz%2 >0:\n",
    "        Q = arr[siz // 2]\n",
    "        arrInf = arr[:siz // 2]\n",
    "        arrSup = arr[(siz // 2)+1:]\n",
    "\n",
    "        if (len(arrInf)%2>0):\n",
    "            Q1 = arrInf[len(arrInf) // 2]\n",
    "            Q3 = arrSup[len(arrSup) // 2]\n",
    "            print(\"\\n\",\"                     \", arrInf,\"|\", Q, \"|\",arrSup)\n",
    "            print(\"Qs : \", Q1,\"|\", Q, \"| \",Q3)\n",
    "        else:\n",
    "            Q1 = (arrInf[len(arrInf)// 2] + arrInf[len(arrInf) // 2 - 1 ])/2\n",
    "            Q3 = (arrSup[len(arrSup)// 2] + arrSup[len(arrSup) // 2 - 1 ])/2\n",
    "            print(\"\\n\",\"                     \", arrInf,\"|\", Q, \"|\",arrSup)\n",
    "            print(\"Qs : \", Q1,\"|\", Q, \"| \",Q3)\n",
    "            \n",
    "        fin = round(float(Q3 - Q1),1)\n",
    "        print(\"Q3 - Q1 = \",Q3,\"-\",Q1,\" = \", fin) \n",
    "        return [ int(Q1), int(Q) , int(Q3)]\n",
    "\n",
    "    else:\n",
    "        Q = (arr[siz// 2] + arr[siz // 2 - 1 ])/2\n",
    "        arrInf = arr[:(siz // 2)]\n",
    "        arrSup = arr[(siz // 2):]\n",
    "\n",
    "        if (len(arrInf)%2>0):\n",
    "            Q1 = arrInf[len(arrInf) // 2]\n",
    "            Q3 = arrSup[len(arrSup) // 2]\n",
    "                       \n",
    "            print(\"\\n\",\"*                    *\", arrInf,\"|\", Q, \"|\",arrSup)\n",
    "            print(\"Qs : \", Q1,\"|\", Q, \"| \",Q3)\n",
    "        else:\n",
    "            Q1 = (arrInf[len(arrInf)// 2] + arrInf[len(arrInf) // 2 - 1 ])/2\n",
    "            Q3 = (arrSup[len(arrSup)// 2] + arrSup[len(arrSup) // 2 - 1 ])/2\n",
    "            \n",
    "            print(\"\\n\",\"*                    *\", arrInf,\"|\", Q, \"|\",arrSup)\n",
    "            print(\"Qs : \", Q1,\"|\", Q, \"| \",Q3)\n",
    "\n",
    "        fin = round(float(Q3 - Q1),1)\n",
    "        print(\"Q3 - Q1 = \",Q3,\"-\",Q1,\" = \", fin)\n",
    "        return [ int(Q1), int(Q) , int(Q3)]\n"
   ]
  },
  {
   "source": [
    "v =  [6, 12, 8, 10, 20, 16]\n",
    "f =  [5, 4, 3, 2, 1, 5]\n",
    "interQuartile(v, f)\n",
    "print(\"\\n\",\"----------------------------------------------------------------------------------------------------\")\n",
    "g = [3, 7, 8, 5, 12, 14, 21, 13,18]\n",
    "h = [1, 1, 1, 1, 1,  1,  1,  1,  1]\n",
    "interQuartile(g, h)\n"
   ],
   "cell_type": "code",
   "metadata": {},
   "execution_count": 6,
   "outputs": [
    {
     "output_type": "stream",
     "name": "stdout",
     "text": [
      "             array >  [6, 6, 6, 6, 6, 12, 12, 12, 12, 8, 8, 8, 10, 10, 20, 16, 16, 16, 16, 16]\n\n sorted array array >  [6, 6, 6, 6, 6, 8, 8, 8, 10, 10, 12, 12, 12, 12, 16, 16, 16, 16, 16, 20]\n\n *                    * [6, 6, 6, 6, 6, 8, 8, 8, 10, 10] | 11.0 | [12, 12, 12, 12, 16, 16, 16, 16, 16, 20]\nQs :  7.0 | 11.0 |  16.0\nQ3 - Q1 =  16.0 - 7.0  =  9.0\n\n ----------------------------------------------------------------------------------------------------\n             array >  [3, 7, 8, 5, 12, 14, 21, 13, 18]\n\n sorted array array >  [3, 5, 7, 8, 12, 13, 14, 18, 21]\n\n                       [3, 5, 7, 8] | 12 | [13, 14, 18, 21]\nQs :  6.0 | 12 |  16.0\nQ3 - Q1 =  16.0 - 6.0  =  10.0\n"
     ]
    },
    {
     "output_type": "execute_result",
     "data": {
      "text/plain": [
       "[6, 12, 16]"
      ]
     },
     "metadata": {},
     "execution_count": 6
    }
   ]
  },
  {
   "cell_type": "code",
   "execution_count": 7,
   "metadata": {},
   "outputs": [
    {
     "output_type": "stream",
     "name": "stdout",
     "text": [
      "\n num of values >  9\n----------------------------------------------------------------------------------------------------\n             array >  [3, 7, 8, 5, 12, 14, 21, 13, 18]\n\n sorted array array >  [3, 5, 7, 8, 12, 13, 14, 18, 21]\n\n                       [3, 5, 7, 8] | 12 | [13, 14, 18, 21]\nQs :  6.0 | 12 |  16.0\nQ3 - Q1 =  16.0 - 6.0  =  10.0\n\n num of values >  19\n----------------------------------------------------------------------------------------------------\n             array >  [59, 60, 65, 65, 68, 69, 70, 72, 75, 75, 76, 77, 81, 82, 84, 87, 90, 95, 98]\n\n sorted array array >  [59, 60, 65, 65, 68, 69, 70, 72, 75, 75, 76, 77, 81, 82, 84, 87, 90, 95, 98]\n\n                       [59, 60, 65, 65, 68, 69, 70, 72, 75] | 75 | [76, 77, 81, 82, 84, 87, 90, 95, 98]\nQs :  68 | 75 |  84\nQ3 - Q1 =  84 - 68  =  16.0\n\n num of values >  10\n----------------------------------------------------------------------------------------------------\n             array >  [1, 3, 3, 4, 5, 6, 6, 7, 8, 8]\n\n sorted array array >  [1, 3, 3, 4, 5, 6, 6, 7, 8, 8]\n\n *                    * [1, 3, 3, 4, 5] | 5.5 | [6, 6, 7, 8, 8]\nQs :  3 | 5.5 |  7\nQ3 - Q1 =  7 - 3  =  4.0\n\n num of values >  11\n----------------------------------------------------------------------------------------------------\n             array >  [6, 7, 15, 36, 39, 40, 41, 42, 43, 47, 49]\n\n sorted array array >  [6, 7, 15, 36, 39, 40, 41, 42, 43, 47, 49]\n\n                       [6, 7, 15, 36, 39] | 40 | [41, 42, 43, 47, 49]\nQs :  15 | 40 |  43\nQ3 - Q1 =  43 - 15  =  28.0\n\n num of values >  6\n----------------------------------------------------------------------------------------------------\n             array >  [7, 15, 36, 39, 40, 41]\n\n sorted array array >  [7, 15, 36, 39, 40, 41]\n\n *                    * [7, 15, 36] | 37.5 | [39, 40, 41]\nQs :  15 | 37.5 |  40\nQ3 - Q1 =  40 - 15  =  25.0\n\n num of values >  5\n----------------------------------------------------------------------------------------------------\n             array >  [10, 40, 30, 50, 20]\n\n sorted array array >  [10, 20, 30, 40, 50]\n\n                       [10, 20] | 30 | [40, 50]\nQs :  15.0 | 30 |  45.0\nQ3 - Q1 =  45.0 - 15.0  =  30.0\n\n num of values >  5\n----------------------------------------------------------------------------------------------------\n             array >  [2, 5, 2, 7, 4]\n\n sorted array array >  [2, 2, 4, 5, 7]\n\n                       [2, 2] | 4 | [5, 7]\nQs :  2.0 | 4 |  6.0\nQ3 - Q1 =  6.0 - 2.0  =  4.0\n"
     ]
    }
   ],
   "source": [
    "for i in dic:\n",
    "    n = i\n",
    "    data = dic.get(i)\n",
    "    h = [ 1 for i in range(len(data)) ]\n",
    "    print(\"\\n\",\"num of values > \",sum(h))\n",
    "    print(\"----------------------------------------------------------------------------------------------------\")\n",
    "    interQuartile(data, h)"
   ]
  },
  {
   "source": [
    "#Day 1: Standard Deviation\n"
   ],
   "cell_type": "markdown",
   "metadata": {}
  },
  {
   "cell_type": "code",
   "execution_count": 8,
   "metadata": {},
   "outputs": [],
   "source": [
    "def stdDev(arr):\n",
    "    avg = round(sum(arr)/len(arr),1)\n",
    "    sum_sqrt_err = round (sum( [ pow((i-avg),2) for i in arr] ), 2)\n",
    "    std = round(math.sqrt(sum_sqrt_err/len(arr)),1)\n",
    "    print(\"Avg: {} | Sum of square error: {} | Std: {}\".format(avg, sum_sqrt_err, std ))"
   ]
  },
  {
   "cell_type": "code",
   "execution_count": 9,
   "metadata": {},
   "outputs": [
    {
     "output_type": "stream",
     "name": "stdout",
     "text": [
      "\n\n[3, 7, 8, 5, 12, 14, 21, 13, 18]\nAvg: 11.2 | Sum of error square: 287.56 | Std: 5.7\n\n\n[59, 60, 65, 65, 68, 69, 70, 72, 75, 75, 76, 77, 81, 82, 84, 87, 90, 95, 98]\nAvg: 76.2 | Sum of error square: 2241.16 | Std: 10.9\n\n\n[1, 3, 3, 4, 5, 6, 6, 7, 8, 8]\nAvg: 5.1 | Sum of error square: 48.9 | Std: 2.2\n\n\n[6, 7, 15, 36, 39, 40, 41, 42, 43, 47, 49]\nAvg: 33.2 | Sum of error square: 2519.64 | Std: 15.1\n\n\n[7, 15, 36, 39, 40, 41]\nAvg: 29.7 | Sum of error square: 1091.34 | Std: 13.5\n\n\n[10, 40, 30, 50, 20]\nAvg: 30.0 | Sum of error square: 1000.0 | Std: 14.1\n\n\n[2, 5, 2, 7, 4]\nAvg: 4.0 | Sum of error square: 18.0 | Std: 1.9\n"
     ]
    }
   ],
   "source": [
    "for i in dic:\n",
    "    n = i\n",
    "    data = dic.get(i)\n",
    "    print(\"\\n\")\n",
    "    print(data)\n",
    "    stdDev(data)"
   ]
  },
  {
   "cell_type": "code",
   "execution_count": null,
   "metadata": {},
   "outputs": [],
   "source": []
  }
 ]
}