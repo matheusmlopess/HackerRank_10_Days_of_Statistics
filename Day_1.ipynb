{
 "metadata": {
  "language_info": {
   "codemirror_mode": {
    "name": "ipython",
    "version": 3
   },
   "file_extension": ".py",
   "mimetype": "text/x-python",
   "name": "python",
   "nbconvert_exporter": "python",
   "pygments_lexer": "ipython3",
   "version": "3.8.3"
  },
  "orig_nbformat": 4,
  "kernelspec": {
   "name": "python3",
   "display_name": "Python 3.8.3 64-bit ('base': conda)"
  },
  "interpreter": {
   "hash": "d305bffd9d3fd2239913748dcf493bfc15195005772fd77ecd3617184515f967"
  }
 },
 "nbformat": 4,
 "nbformat_minor": 2,
 "cells": [
  {
   "source": [
    "# Day 1: Quartiles"
   ],
   "cell_type": "markdown",
   "metadata": {}
  },
  {
   "source": [
    "1. median - get results in order\n",
    "2. find middle point - if par avg the midle numbers\n",
    "3. find the midina of the other two halfs \n",
    "4. iQR\n",
    "\n"
   ],
   "cell_type": "markdown",
   "metadata": {}
  },
  {
   "cell_type": "code",
   "execution_count": 4,
   "metadata": {},
   "outputs": [],
   "source": [
    "# can use this bibs\n",
    "import math\n",
    "import os\n",
    "import random\n",
    "import re\n",
    "import sys\n"
   ]
  },
  {
   "cell_type": "code",
   "execution_count": 65,
   "metadata": {},
   "outputs": [
    {
     "output_type": "stream",
     "name": "stdout",
     "text": [
      "_____________________________________________________________________________________________ \nData -->         [3, 7, 8, 5, 12, 14, 21, 13, 18]\nSorted Data -->  [3, 5, 7, 8, 12, 13, 14, 18, 21] \n\nQ1 [subsets] >  6.0 [3, 5, 7, 8] [13, 14, 18, 21]\nQ2 [subsets] >  12 [3, 5] [7, 8]\nQ3 [subsets] >  16.0 [13, 14] [18, 21]\nfunc1 results                      Quartiles: -->>>  [6.0, 12, 16.0]\nfunc1 results                      Quartiles: -->>>  [6.0, 12, 16.0] \n\n_____________________________________________________________________________________________ \nData -->         [59, 60, 65, 65, 68, 69, 70, 72, 75, 75, 76, 77, 81, 82, 84, 87, 90, 95, 98]\nSorted Data -->  [59, 60, 65, 65, 68, 69, 70, 72, 75, 75, 76, 77, 81, 82, 84, 87, 90, 95, 98] \n\nQ1 [subsets] >  68 [59, 60, 65, 65, 68, 69, 70, 72, 75] [76, 77, 81, 82, 84, 87, 90, 95, 98]\nQ2 [subsets] >  75 [59, 60, 65, 65] [69, 70, 72, 75]\nQ3 [subsets] >  84 [76, 77, 81, 82] [87, 90, 95, 98]\nfunc1 results                      Quartiles: -->>>  [68, 75, 84]\nfunc1 results                      Quartiles: -->>>  [68, 75, 84] \n\n_____________________________________________________________________________________________ \nData -->         [1, 3, 3, 4, 5, 6, 6, 7, 8, 8]\nSorted Data -->  [1, 3, 3, 4, 5, 6, 6, 7, 8, 8] \n\nQ1 [subsets] >  3 [1, 3, 3, 4, 5] [6, 6, 7, 8, 8]\nQ2 [subsets] >  5.5 [1, 3] [4, 5]\nQ3 [subsets] >  7 [6, 6] [8, 8]\nfunc1 results                      Quartiles: -->>>  [3, 5.5, 7]\nfunc1 results                      Quartiles: -->>>  [3, 5.5, 7] \n\n_____________________________________________________________________________________________ \nData -->         [6, 7, 15, 36, 39, 40, 41, 42, 43, 47, 49]\nSorted Data -->  [6, 7, 15, 36, 39, 40, 41, 42, 43, 47, 49] \n\nQ1 [subsets] >  15 [6, 7, 15, 36, 39] [41, 42, 43, 47, 49]\nQ2 [subsets] >  40 [6, 7] [36, 39]\nQ3 [subsets] >  43 [41, 42] [47, 49]\nfunc1 results                      Quartiles: -->>>  [15, 40, 43]\nfunc1 results                      Quartiles: -->>>  [15, 40, 43] \n\n_____________________________________________________________________________________________ \nData -->         [7, 15, 36, 39, 40, 41]\nSorted Data -->  [7, 15, 36, 39, 40, 41] \n\nQ1 [subsets] >  15 [7, 15, 36] [39, 40, 41]\nQ2 [subsets] >  37.5 [7] [36]\nQ3 [subsets] >  40 [39] [41]\nfunc1 results                      Quartiles: -->>>  [15, 37.5, 40]\nfunc1 results                      Quartiles: -->>>  [15, 37.5, 40] \n\n"
     ]
    }
   ],
   "source": [
    "if __name__ == '__main__':\n",
    "\n",
    "    fptr = open('input00.txt', 'r')\n",
    "    fptr2 = open('output00.txt', 'w')\n",
    "    count = 2\n",
    "    dic = {}\n",
    "    aux = []\n",
    "\n",
    "for x in fptr:\n",
    "\n",
    "    if count%2 > 0:\n",
    "       x1 = list(map(int,str(x).split()))\n",
    "       dic[aux] = x1\n",
    "    else:\n",
    "       x2 = list(map(int,str(x).split()))\n",
    "       aux = x2[0] \n",
    "    count += 1\n",
    "\n",
    "for i in dic:\n",
    "    n = i\n",
    "    data = dic.get(i)\n",
    "    \n",
    "    teste = quartiles2(data)\n",
    "    \n",
    "    Q_2, a1, b1= quartiles(data)\n",
    "    Q_1, a2, b2= quartiles(a1)\n",
    "    Q_3, a3, b3= quartiles(b1)\n",
    "\n",
    "    print(\"_____________________________________________________________________________________________ \")\n",
    "    print(\"Data -->        \", data)\n",
    "    print(\"Sorted Data --> \",sorted(data),\"\\n\")\n",
    "    print(\"Q1 [subsets] > \", Q_1, a1, b1)\n",
    "    print(\"Q2 [subsets] > \", Q_2, a2, b2)\n",
    "    print(\"Q3 [subsets] > \", Q_3, a3, b3)\n",
    "\n",
    "    res = [Q_1, Q_2, Q_3]\n",
    "\n",
    "    print(\"func1 results                      Quartiles: -->>> \", teste )\n",
    "    print(\"func1 results                      Quartiles: -->>> \" ,res, \"\\n\")\n",
    "\n",
    "    fptr2.write('\\n'.join(map(str, res)))\n",
    "    fptr2.write('\\n')\n",
    "    \n",
    "\n",
    "fptr.close()"
   ]
  },
  {
   "cell_type": "code",
   "execution_count": 52,
   "metadata": {},
   "outputs": [],
   "source": [
    "def quartiles(arr):\n",
    "    \n",
    "    arr = sorted(arr)\n",
    "    siz = len(arr)\n",
    " \n",
    "    if siz%2 >0:\n",
    "        Q = arr[siz // 2]\n",
    "        arrInf = arr[:siz // 2]\n",
    "        arrSup = arr[(siz // 2)+1:]\n",
    "        return Q, arrInf, arrSup\n",
    "\n",
    "    else:\n",
    "        Q = (arr[siz// 2] + arr[siz // 2 - 1 ])/2\n",
    "        arrInf = arr[:(siz // 2)]\n",
    "        arrSup = arr[(siz // 2):]\n",
    "        return Q, arrInf, arrSup\n",
    "   \n",
    "\n",
    "    "
   ]
  },
  {
   "cell_type": "code",
   "execution_count": 51,
   "metadata": {},
   "outputs": [],
   "source": [
    "def quartiles2(arr):\n",
    "    \n",
    "    arr = sorted(arr)\n",
    "    siz = len(arr)\n",
    "    \n",
    "    if siz%2 >0:\n",
    "        Q = arr[siz // 2]\n",
    "        arrInf = arr[:siz // 2]\n",
    "        arrSup = arr[(siz // 2)+1:]\n",
    "\n",
    "        if (len(arrInf)%2>0):\n",
    "            Q2 = arrInf[len(arrInf) // 2]\n",
    "            Q3 = arrSup[len(arrSup) // 2]\n",
    "        else:\n",
    "            Q2 = (arrInf[len(arrInf)// 2] + arrInf[len(arrInf) // 2 - 1 ])/2\n",
    "            Q3 = (arrSup[len(arrSup)// 2] + arrSup[len(arrSup) // 2 - 1 ])/2\n",
    "\n",
    "        return [ Q2, Q , Q3]\n",
    "\n",
    "    else:\n",
    "        Q = (arr[siz// 2] + arr[siz // 2 - 1 ])/2\n",
    "        arrInf = arr[:(siz // 2)]\n",
    "        arrSup = arr[(siz // 2):]\n",
    "\n",
    "        if (len(arrInf)%2>0):\n",
    "            Q2 = arrInf[len(arrInf) // 2]\n",
    "            Q3 = arrSup[len(arrSup) // 2]\n",
    "        else:\n",
    "            Q2 = (arrInf[len(arrInf)// 2] + arrInf[len(arrInf) // 2 - 1 ])/2\n",
    "            Q3 = (arrSup[len(arrSup)// 2] + arrSup[len(arrSup) // 2 - 1 ])/2\n",
    "       \n",
    "        return [ Q2, Q , Q3]  "
   ]
  }
 ]
}