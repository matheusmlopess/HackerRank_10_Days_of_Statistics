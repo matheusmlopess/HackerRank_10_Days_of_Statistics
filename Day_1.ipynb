{
 "metadata": {
  "language_info": {
   "codemirror_mode": {
    "name": "ipython",
    "version": 3
   },
   "file_extension": ".py",
   "mimetype": "text/x-python",
   "name": "python",
   "nbconvert_exporter": "python",
   "pygments_lexer": "ipython3",
   "version": "3.8.3"
  },
  "orig_nbformat": 4,
  "kernelspec": {
   "name": "python3",
   "display_name": "Python 3.8.3 64-bit ('base': conda)"
  },
  "interpreter": {
   "hash": "d305bffd9d3fd2239913748dcf493bfc15195005772fd77ecd3617184515f967"
  }
 },
 "nbformat": 4,
 "nbformat_minor": 2,
 "cells": [
  {
   "source": [
    "# Day 1: Quartiles"
   ],
   "cell_type": "markdown",
   "metadata": {}
  },
  {
   "source": [
    "1. median - get results in order\n",
    "2. find middle point - if par avg the midle numbers\n",
    "3. find the midina of the other two halfs \n",
    "4. iQR\n",
    "\n"
   ],
   "cell_type": "markdown",
   "metadata": {}
  },
  {
   "cell_type": "code",
   "execution_count": 4,
   "metadata": {},
   "outputs": [],
   "source": [
    "# can use this bibs\n",
    "import math\n",
    "import os\n",
    "import random\n",
    "import re\n",
    "import sys\n"
   ]
  },
  {
   "cell_type": "code",
   "execution_count": 76,
   "metadata": {},
   "outputs": [
    {
     "output_type": "error",
     "ename": "NameError",
     "evalue": "name 'arrIn' is not defined",
     "traceback": [
      "\u001b[1;31m---------------------------------------------------------------------------\u001b[0m",
      "\u001b[1;31mNameError\u001b[0m                                 Traceback (most recent call last)",
      "\u001b[1;32m<ipython-input-76-2253a46d620e>\u001b[0m in \u001b[0;36m<module>\u001b[1;34m\u001b[0m\n\u001b[0;32m     23\u001b[0m     \u001b[0mteste\u001b[0m \u001b[1;33m=\u001b[0m \u001b[0mquartiles2\u001b[0m\u001b[1;33m(\u001b[0m\u001b[0mdata\u001b[0m\u001b[1;33m)\u001b[0m\u001b[1;33m\u001b[0m\u001b[1;33m\u001b[0m\u001b[0m\n\u001b[0;32m     24\u001b[0m \u001b[1;33m\u001b[0m\u001b[0m\n\u001b[1;32m---> 25\u001b[1;33m     \u001b[0mQ_2\u001b[0m\u001b[1;33m,\u001b[0m \u001b[0ma1\u001b[0m\u001b[1;33m,\u001b[0m \u001b[0mb1\u001b[0m\u001b[1;33m=\u001b[0m \u001b[0mquartiles\u001b[0m\u001b[1;33m(\u001b[0m\u001b[0mdata\u001b[0m\u001b[1;33m)\u001b[0m\u001b[1;33m\u001b[0m\u001b[1;33m\u001b[0m\u001b[0m\n\u001b[0m\u001b[0;32m     26\u001b[0m     \u001b[0mQ_1\u001b[0m\u001b[1;33m,\u001b[0m \u001b[0ma2\u001b[0m\u001b[1;33m,\u001b[0m \u001b[0mb2\u001b[0m\u001b[1;33m=\u001b[0m \u001b[0mquartiles\u001b[0m\u001b[1;33m(\u001b[0m\u001b[0ma1\u001b[0m\u001b[1;33m)\u001b[0m\u001b[1;33m\u001b[0m\u001b[1;33m\u001b[0m\u001b[0m\n\u001b[0;32m     27\u001b[0m     \u001b[0mQ_3\u001b[0m\u001b[1;33m,\u001b[0m \u001b[0ma3\u001b[0m\u001b[1;33m,\u001b[0m \u001b[0mb3\u001b[0m\u001b[1;33m=\u001b[0m \u001b[0mquartiles\u001b[0m\u001b[1;33m(\u001b[0m\u001b[0mb1\u001b[0m\u001b[1;33m)\u001b[0m\u001b[1;33m\u001b[0m\u001b[1;33m\u001b[0m\u001b[0m\n",
      "\u001b[1;32m<ipython-input-75-44b61d5a90be>\u001b[0m in \u001b[0;36mquartiles\u001b[1;34m(arr)\u001b[0m\n\u001b[0;32m      8\u001b[0m         \u001b[0marrInf\u001b[0m \u001b[1;33m=\u001b[0m \u001b[0marr\u001b[0m\u001b[1;33m[\u001b[0m\u001b[1;33m:\u001b[0m\u001b[0msiz\u001b[0m \u001b[1;33m//\u001b[0m \u001b[1;36m2\u001b[0m\u001b[1;33m]\u001b[0m\u001b[1;33m\u001b[0m\u001b[1;33m\u001b[0m\u001b[0m\n\u001b[0;32m      9\u001b[0m         \u001b[0marrSup\u001b[0m \u001b[1;33m=\u001b[0m \u001b[0marr\u001b[0m\u001b[1;33m[\u001b[0m\u001b[1;33m(\u001b[0m\u001b[0msiz\u001b[0m \u001b[1;33m//\u001b[0m \u001b[1;36m2\u001b[0m\u001b[1;33m)\u001b[0m\u001b[1;33m+\u001b[0m\u001b[1;36m1\u001b[0m\u001b[1;33m:\u001b[0m\u001b[1;33m]\u001b[0m\u001b[1;33m\u001b[0m\u001b[1;33m\u001b[0m\u001b[0m\n\u001b[1;32m---> 10\u001b[1;33m         \u001b[1;32mreturn\u001b[0m \u001b[0mint\u001b[0m\u001b[1;33m(\u001b[0m\u001b[0mQ\u001b[0m\u001b[1;33m)\u001b[0m\u001b[1;33m,\u001b[0m \u001b[0marrIn\u001b[0m\u001b[1;33m,\u001b[0m \u001b[0marrSup\u001b[0m\u001b[1;33m\u001b[0m\u001b[1;33m\u001b[0m\u001b[0m\n\u001b[0m\u001b[0;32m     11\u001b[0m \u001b[1;33m\u001b[0m\u001b[0m\n\u001b[0;32m     12\u001b[0m     \u001b[1;32melse\u001b[0m\u001b[1;33m:\u001b[0m\u001b[1;33m\u001b[0m\u001b[1;33m\u001b[0m\u001b[0m\n",
      "\u001b[1;31mNameError\u001b[0m: name 'arrIn' is not defined"
     ]
    }
   ],
   "source": [
    "if __name__ == '__main__':\n",
    "\n",
    "    fptr = open('input00.txt', 'r')\n",
    "    fptr2 = open('output00.txt', 'w')\n",
    "    count = 2\n",
    "    dic = {}\n",
    "    aux = []\n",
    "\n",
    "for x in fptr:\n",
    "\n",
    "    if count%2 > 0:\n",
    "       x1 = list(map(int,str(x).split()))\n",
    "       dic[aux] = x1\n",
    "    else:\n",
    "       x2 = list(map(int,str(x).split()))\n",
    "       aux = x2[0] \n",
    "    count += 1\n",
    "\n",
    "for i in dic:\n",
    "    n = i\n",
    "    data = dic.get(i)\n",
    "    \n",
    "    teste = quartiles2(data)\n",
    "    \n",
    "    Q_2, a1, b1= quartiles(data)\n",
    "    Q_1, a2, b2= quartiles(a1)\n",
    "    Q_3, a3, b3= quartiles(b1)\n",
    "\n",
    "    print(\"_____________________________________________________________________________________________ \")\n",
    "    print(\"Data -->        \", data)\n",
    "    print(\"Sorted Data --> \",sorted(data),\"\\n\")\n",
    "    print(\"Q1 [subsets] > \", Q_1, a1, b1)\n",
    "    print(\"Q2 [subsets] > \", Q_2, a2, b2)\n",
    "    print(\"Q3 [subsets] > \", Q_3, a3, b3)\n",
    "\n",
    "    res = [Q_1, Q_2, Q_3]\n",
    "\n",
    "    print(\"func1 results                      Quartiles: -->>> \", teste )\n",
    "    print(\"func1 results                      Quartiles: -->>> \" ,res, \"\\n\")\n",
    "\n",
    "    fptr2.write('\\n'.join(map(str, res)))\n",
    "    fptr2.write('\\n')\n",
    "    \n",
    "fptr.close()"
   ]
  },
  {
   "cell_type": "code",
   "execution_count": 75,
   "metadata": {},
   "outputs": [],
   "source": [
    "def quartiles(arr):\n",
    "    \n",
    "    arr = sorted(arr)\n",
    "    siz = len(arr)\n",
    " \n",
    "    if siz%2 >0:\n",
    "        Q = arr[siz // 2]\n",
    "        arrInf = arr[:siz // 2]\n",
    "        arrSup = arr[(siz // 2)+1:]\n",
    "        return int(Q), arrInf, arrSup\n",
    "\n",
    "    else:\n",
    "        Q = (arr[siz// 2] + arr[siz // 2 - 1 ])/2\n",
    "        arrInf = arr[:(siz // 2)]\n",
    "        arrSup = arr[(siz // 2):]\n",
    "        return int(Q), arrInf, arrSup"
   ]
  },
  {
   "cell_type": "code",
   "execution_count": 72,
   "metadata": {},
   "outputs": [],
   "source": [
    "def quartiles2(arr):\n",
    "    \n",
    "    arr = sorted(arr)\n",
    "    siz = len(arr)\n",
    "    \n",
    "    if siz%2 >0:\n",
    "        Q = arr[siz // 2]\n",
    "        arrInf = arr[:siz // 2]\n",
    "        arrSup = arr[(siz // 2)+1:]\n",
    "\n",
    "        if (len(arrInf)%2>0):\n",
    "            Q2 = arrInf[len(arrInf) // 2]\n",
    "            Q3 = arrSup[len(arrSup) // 2]\n",
    "        else:\n",
    "            Q2 = (arrInf[len(arrInf)// 2] + arrInf[len(arrInf) // 2 - 1 ])/2\n",
    "            Q3 = (arrSup[len(arrSup)// 2] + arrSup[len(arrSup) // 2 - 1 ])/2\n",
    "\n",
    "        return [ int(Q2), int(Q) , int(Q3)]\n",
    "\n",
    "    else:\n",
    "        Q = (arr[siz// 2] + arr[siz // 2 - 1 ])/2\n",
    "        arrInf = arr[:(siz // 2)]\n",
    "        arrSup = arr[(siz // 2):]\n",
    "\n",
    "        if (len(arrInf)%2>0):\n",
    "            Q2 = arrInf[len(arrInf) // 2]\n",
    "            Q3 = arrSup[len(arrSup) // 2]\n",
    "        else:\n",
    "            Q2 = (arrInf[len(arrInf)// 2] + arrInf[len(arrInf) // 2 - 1 ])/2\n",
    "            Q3 = (arrSup[len(arrSup)// 2] + arrSup[len(arrSup) // 2 - 1 ])/2\n",
    "       \n",
    "        return [ int(Q2), int(Q) , int(Q3)]"
   ]
  }
 ]
}